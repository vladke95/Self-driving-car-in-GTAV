{
 "cells": [
  {
   "cell_type": "code",
   "execution_count": null,
   "metadata": {
    "scrolled": true
   },
   "outputs": [],
   "source": [
    "import os\n",
    "import cv2\n",
    "import time\n",
    "import numpy as np\n",
    "import import_ipynb\n",
    "import XInput\n",
    "from grabscreen import grab_screen\n",
    "from inputManager import get_input\n",
    "from IPython.display import clear_output"
   ]
  },
  {
   "cell_type": "code",
   "execution_count": null,
   "metadata": {},
   "outputs": [],
   "source": [
    "# Data load\n",
    "training_data_file_name = 'data/training_data.npy'\n",
    "if os.path.isfile(training_data_file_name):\n",
    "    training_data = list(np.load(training_data_file_name,allow_pickle=True))\n",
    "else:\n",
    "    training_data = []\n",
    "    \n",
    "gtav_helper_log = open(\"C:\\\\Program files\\Cheat Engine 7.1\\log.txt\",\"r\")\n",
    "objects_cascade = cv2.CascadeClassifier('haarcascade_car.xml')"
   ]
  },
  {
   "cell_type": "code",
   "execution_count": null,
   "metadata": {
    "scrolled": true
   },
   "outputs": [],
   "source": [
    "tmpTime = time.time()\n",
    "#######################################\n",
    "Window_Width = 1920\n",
    "Window_Height = 835\n",
    "grabBox = (0,40,Window_Width,Window_Height)\n",
    "navi_size = (0,835,306,1080)\n",
    "\n",
    "time_per_screen = 0.15\n",
    "\n",
    "#######################################    \n",
    "gtav_helper_log = open(\"C:\\\\Program files\\Cheat Engine 7.1\\log.txt\",\"r\")\n",
    "objects_cascade = cv2.CascadeClassifier('haarcascade_car.xml')\n",
    "\n",
    "def Proces_Image(Org_Img, LoopTime):\n",
    "    # Color conversion\n",
    "    processed_Image = cv2.cvtColor(Org_Img,cv2.COLOR_BGR2RGB)\n",
    "    # fps Adding\n",
    "    fps = \"FPS: {:5.2f}\".format( 1 / LoopTime)\n",
    "    org = (int(Window_Width*0.8),int(Window_Height*0.05))\n",
    "    cv2.putText(processed_Image, fps, org, cv2.FONT_HERSHEY_SIMPLEX, 0.7, (0,120,0), 2)\n",
    "    # rectangles drawing over detected objects\n",
    "    objects = objects_cascade.detectMultiScale(processed_Image, 1.3, 5)\n",
    "    for (x,y,w,h) in objects:\n",
    "        cv2.rectangle(processed_Image,(x,y),(x+w,y+h),(255,0,0),5)\n",
    "    \n",
    "    return processed_Image\n",
    "\n",
    "# Collecting data for training loop\n",
    "cv2.imshow('TST',np.zeros((150,150)))\n",
    "paused = True\n",
    "while(True):\n",
    "    if not paused:\n",
    "        # Taking screen image\n",
    "        screen = np.array(grab_screen(region=grabBox))\n",
    "        screen = cv2.cvtColor(screen,cv2.COLOR_BGR2GRAY)\n",
    "        screen = cv2.resize(screen, (220, 96))\n",
    "        # Taking speed and drive data\n",
    "        gtav_helper_log.seek(0)\n",
    "        speed = float(gtav_helper_log.read(5))\n",
    "        forw_back_input = XInput.get_trigger_values(XInput.get_state(0))\n",
    "        forw_back = (forw_back_input[1] - forw_back_input[0] + 1) / 2\n",
    "        left_right = (XInput.get_thumb_values(XInput.get_state(0))[0][0] +1) / 2\n",
    "        \n",
    "        training_data.append([screen,speed,forw_back,left_right])   \n",
    "        if (time.time() - tmpTime < time_per_screen):\n",
    "            time.sleep(time.time() - tmpTime)\n",
    "        tmpTime=time.time()\n",
    "        \n",
    "    # Cheking if pressing pause\n",
    "    clear_output(wait=True)\n",
    "    print(paused)\n",
    "    if 'T' in get_input():\n",
    "        paused = not paused\n",
    "        time.sleep(0.5)\n",
    "    # Closing when q\n",
    "    if cv2.waitKey(25) & 0xFF == ord('q'):\n",
    "        np.save(training_data_file_name,training_data)\n",
    "        cv2.destroyAllWindows()\n",
    "        break"
   ]
  },
  {
   "cell_type": "code",
   "execution_count": null,
   "metadata": {
    "scrolled": true
   },
   "outputs": [],
   "source": [
    "# Show slideshow\n",
    "i=0\n",
    "len(training_data)\n",
    "while(i<len(training_data)):\n",
    "    cv2.imshow('TST', training_data[i][0])\n",
    "    i+=1\n",
    "    if cv2.waitKey(25) & 0xFF == ord('q'):\n",
    "        cv2.destroyAllWindows()\n",
    "        break\n",
    "cv2.destroyAllWindows()"
   ]
  }
 ],
 "metadata": {
  "kernelspec": {
   "display_name": "Python 3",
   "language": "python",
   "name": "python3"
  },
  "language_info": {
   "codemirror_mode": {
    "name": "ipython",
    "version": 3
   },
   "file_extension": ".py",
   "mimetype": "text/x-python",
   "name": "python",
   "nbconvert_exporter": "python",
   "pygments_lexer": "ipython3",
   "version": "3.6.12"
  }
 },
 "nbformat": 4,
 "nbformat_minor": 4
}
